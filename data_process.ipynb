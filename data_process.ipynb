{
 "cells": [
  {
   "cell_type": "code",
   "execution_count": 1,
   "metadata": {},
   "outputs": [
    {
     "name": "stderr",
     "output_type": "stream",
     "text": [
      "/root/anaconda3/lib/python3.7/site-packages/ipykernel_launcher.py:10: FutureWarning: The signature of `Series.to_csv` was aligned to that of `DataFrame.to_csv`, and argument 'header' will change its default value from False to True: please pass an explicit value to suppress this warning.\n",
      "  # Remove the CWD from sys.path while we load stuff.\n"
     ]
    }
   ],
   "source": [
    "import pandas as pd\n",
    "\n",
    "# 读取csv文件\n",
    "df = pd.read_csv('/aceph/louisyuzhao/buddy2/linyangxiao/AMP/GRATCR/Data/MIRA/MIRA.csv')\n",
    "\n",
    "# 提取第一列\n",
    "first_column = df.iloc[:, 0]\n",
    "\n",
    "# 将第一列存到新的csv文件中\n",
    "first_column.to_csv('/aceph/louisyuzhao/buddy2/linyangxiao/AMP/GRATCR/Data/merged/beta.csv', index=False)"
   ]
  },
  {
   "cell_type": "code",
   "execution_count": 2,
   "metadata": {},
   "outputs": [
    {
     "name": "stdout",
     "output_type": "stream",
     "text": [
      "最长的字符串长度为: 61\n"
     ]
    }
   ],
   "source": [
    "max_length = 0\n",
    "\n",
    "with open('/aceph/louisyuzhao/buddy2/linyangxiao/AMP/AMPGPT/Data/peptide_pretrain/train_data_filtered.txt', 'r') as file:\n",
    "    for line in file:\n",
    "        peptide = line.strip()  # 去除行尾的换行符\n",
    "        length = len(peptide)\n",
    "        if length > max_length:\n",
    "            max_length = length\n",
    "\n",
    "print(\"最长的字符串长度为:\", max_length)"
   ]
  },
  {
   "cell_type": "code",
   "execution_count": 2,
   "metadata": {},
   "outputs": [
    {
     "name": "stdout",
     "output_type": "stream",
     "text": [
      "数据已成功分为训练集和测试集！\n"
     ]
    }
   ],
   "source": [
    "import pandas as pd\n",
    "from sklearn.model_selection import train_test_split\n",
    "\n",
    "# 读取数据\n",
    "data = pd.read_csv(\"/aceph/louisyuzhao/buddy2/linyangxiao/AMP/AMPGPT/Data/AMP/AMP.csv\")\n",
    "\n",
    "# 将数据分为训练集和测试集\n",
    "train_data, test_data = train_test_split(data, test_size=0.1, random_state=42)\n",
    "\n",
    "# 保存训练集和测试集到CSV文件\n",
    "train_data.to_csv(\"/aceph/louisyuzhao/buddy2/linyangxiao/AMP/AMPGPT/Data/AMP/train_reg.csv\", index=False)\n",
    "test_data.to_csv(\"/aceph/louisyuzhao/buddy2/linyangxiao/AMP/AMPGPT/Data/AMP/test_reg.csv\", index=False)\n",
    "\n",
    "print(\"数据已成功分为训练集和测试集！\")"
   ]
  }
 ],
 "metadata": {
  "kernelspec": {
   "display_name": "base",
   "language": "python",
   "name": "python3"
  },
  "language_info": {
   "codemirror_mode": {
    "name": "ipython",
    "version": 3
   },
   "file_extension": ".py",
   "mimetype": "text/x-python",
   "name": "python",
   "nbconvert_exporter": "python",
   "pygments_lexer": "ipython3",
   "version": "3.7.4"
  }
 },
 "nbformat": 4,
 "nbformat_minor": 2
}
